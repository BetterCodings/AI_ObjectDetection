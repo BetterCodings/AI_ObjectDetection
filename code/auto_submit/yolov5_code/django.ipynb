{
 "cells": [
  {
   "cell_type": "code",
   "execution_count": 1,
   "metadata": {},
   "outputs": [
    {
     "name": "stderr",
     "output_type": "stream",
     "text": [
      "Cloning into 'yolov5'...\n"
     ]
    }
   ],
   "source": [
    "!git clone https://github.com/ultralytics/yolov5"
   ]
  },
  {
   "cell_type": "code",
   "execution_count": 3,
   "metadata": {},
   "outputs": [
    {
     "name": "stdout",
     "output_type": "stream",
     "text": [
      "[WinError 3] 지정된 경로를 찾을 수 없습니다: '/ai_objectdetection/yolov5'\n",
      "c:\\Users\\smjoe\\OneDrive - 한국산업기술대학교\\컴퓨터\\3학년\\2학기\\소프트웨어응용설계\\github\\AI_ObjectDetection\n"
     ]
    },
    {
     "name": "stderr",
     "output_type": "stream",
     "text": [
      "python: can't open file 'c:\\Users\\smjoe\\OneDrive - 한국산업기술대학교\\컴퓨터\\3학년\\2학기\\소프트웨어응용설계\\github\\AI_ObjectDetection\\train.py': [Errno 2] No such file or directory\n"
     ]
    }
   ],
   "source": [
    "%cd /ai_objectdetection/yolov5\n",
    "\n",
    "!python train.py --img 640 --batch 16 --epochs 50 --data /ai_objectdetection/dataset/data.yaml --cfg ./models/yolov5s.yaml --weights yolov5s.pt --name yolov5s_results"
   ]
  },
  {
   "cell_type": "code",
   "execution_count": 5,
   "metadata": {},
   "outputs": [],
   "source": [
    "import fileinput\n",
    "import glob\n",
    "\n",
    "\n",
    "a = glob.glob(\"*.txt\")\n",
    "\n",
    "for file in a:\n",
    "    f = open(file, \"r\")\n",
    "    p = open(\"../dd/\"+file, \"w\")\n",
    "\n",
    "    lines = f.readlines()\n",
    "    for line in lines:\n",
    "        if line[0] == '0' : p.write(line)\n",
    "\n",
    "    f.close()\n",
    "    p.close()"
   ]
  },
  {
   "cell_type": "code",
   "execution_count": 2,
   "metadata": {},
   "outputs": [
    {
     "name": "stdout",
     "output_type": "stream",
     "text": [
      "\u001b[0mtrain\u001b[0m\u001b[1;33m:\u001b[0m \u001b[1;33m.\u001b[0m\u001b[1;33m.\u001b[0m\u001b[1;33m/\u001b[0m\u001b[0mdataset\u001b[0m\u001b[1;33m/\u001b[0m\u001b[0mimages\u001b[0m\u001b[1;33m\n",
      "\u001b[0m\u001b[0mval\u001b[0m\u001b[1;33m:\u001b[0m \u001b[1;33m.\u001b[0m\u001b[1;33m.\u001b[0m\u001b[1;33m/\u001b[0m\u001b[0mdataset\u001b[0m\u001b[1;33m/\u001b[0m\u001b[0mimages\u001b[0m\u001b[1;33m\n",
      "\u001b[0m\u001b[1;33m\n",
      "\u001b[0m\u001b[0mnc\u001b[0m\u001b[1;33m:\u001b[0m \u001b[1;36m1\u001b[0m\u001b[1;33m\n",
      "\u001b[0m\u001b[0mnames\u001b[0m\u001b[1;33m:\u001b[0m \u001b[1;33m[\u001b[0m\u001b[1;34m' '\u001b[0m\u001b[1;33m]\u001b[0m\u001b[1;33m\u001b[0m\u001b[1;33m\u001b[0m\u001b[0m\n"
     ]
    }
   ],
   "source": [
    "%pycat ../dataset/data.yaml"
   ]
  },
  {
   "cell_type": "code",
   "execution_count": 1,
   "metadata": {},
   "outputs": [
    {
     "data": {
      "text/plain": [
       "False"
      ]
     },
     "execution_count": 1,
     "metadata": {},
     "output_type": "execute_result"
    }
   ],
   "source": [
    "import torch\n",
    "\n",
    "torch.cuda.is_available()"
   ]
  },
  {
   "cell_type": "code",
   "execution_count": 2,
   "metadata": {},
   "outputs": [
    {
     "name": "stdout",
     "output_type": "stream",
     "text": [
      "^C\n"
     ]
    }
   ],
   "source": [
    "!python train.py --img 416 --batch 16 --epochs 50 --data ../dataset/data.yaml --cfg ./models/yolov5s.yaml --weights yolov5s.pt --name submit_yolov5s_results"
   ]
  },
  {
   "cell_type": "code",
   "execution_count": 4,
   "metadata": {},
   "outputs": [
    {
     "name": "stdout",
     "output_type": "stream",
     "text": [
      "^C\n"
     ]
    }
   ],
   "source": [
    "val_img_path = \"../\"\n",
    "\n",
    "!python detect.py --weights /content/yolov5/runs/train/submit_yolov5s_results2/weights/best.pt --img 416 --conf 0.5 --source \"{val_img_path}\""
   ]
  }
 ],
 "metadata": {
  "kernelspec": {
   "display_name": "Python 3.9.15 ('base')",
   "language": "python",
   "name": "python3"
  },
  "language_info": {
   "codemirror_mode": {
    "name": "ipython",
    "version": 3
   },
   "file_extension": ".py",
   "mimetype": "text/x-python",
   "name": "python",
   "nbconvert_exporter": "python",
   "pygments_lexer": "ipython3",
   "version": "3.9.15"
  },
  "orig_nbformat": 4,
  "vscode": {
   "interpreter": {
    "hash": "73f15aa21341e3eafe5c8ee4ae0757ca383b3faf02ca9d9148520ce6408add7d"
   }
  }
 },
 "nbformat": 4,
 "nbformat_minor": 2
}
